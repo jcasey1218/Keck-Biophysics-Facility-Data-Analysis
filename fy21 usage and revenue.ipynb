{
 "cells": [
  {
   "cell_type": "markdown",
   "metadata": {},
   "source": [
    "# FY21 Keck Biophysics Facility Usage and Revenue Analysis"
   ]
  },
  {
   "cell_type": "code",
   "execution_count": null,
   "metadata": {},
   "outputs": [],
   "source": [
    "#import packages\n",
    "import os\n",
    "import  pickle\n",
    "import pandas as pd  # panda's nickname is pd\n",
    "import numpy as np  # numpy as np\n",
    "from pandas import DataFrame, Series \n",
    "import matplotlib.pyplot as plt"
   ]
  },
  {
   "cell_type": "code",
   "execution_count": null,
   "metadata": {},
   "outputs": [],
   "source": [
    "#read csv file\n",
    "data=pd.read_csv('C:/Users/jcase/Downloads/kbf1821_v2.csv')"
   ]
  },
  {
   "cell_type": "code",
   "execution_count": null,
   "metadata": {},
   "outputs": [],
   "source": [
    "#data"
   ]
  },
  {
   "cell_type": "code",
   "execution_count": null,
   "metadata": {},
   "outputs": [],
   "source": [
    "#Minutes used by lab\n",
    "df= pd.DataFrame(data.groupby(['Owner First Name','Owner Last Name'])['Billable Minutes'].sum())\n",
    "#df"
   ]
  },
  {
   "cell_type": "code",
   "execution_count": null,
   "metadata": {},
   "outputs": [],
   "source": [
    "#Top 10 labs by usage\n",
    "top10lu= df.sort_values(['Billable Minutes'],ascending=False)[:10]\n",
    "top10lu"
   ]
  },
  {
   "cell_type": "code",
   "execution_count": null,
   "metadata": {},
   "outputs": [],
   "source": [
    "#plot\n",
    "top10lu.plot.pie(y='Billable Minutes',figsize=(5, 5),legend=False)"
   ]
  },
  {
   "cell_type": "code",
   "execution_count": null,
   "metadata": {},
   "outputs": [],
   "source": [
    "#Revenue from lab\n",
    "df2= pd.DataFrame(data.groupby(['Owner First Name','Owner Last Name'])['Revenue'].sum())\n",
    "df2"
   ]
  },
  {
   "cell_type": "code",
   "execution_count": null,
   "metadata": {},
   "outputs": [],
   "source": [
    "#top10 revenue by lab\n",
    "top10lr= df2.sort_values(['Revenue'],ascending=False)[:10]\n",
    "top10lr"
   ]
  },
  {
   "cell_type": "code",
   "execution_count": null,
   "metadata": {},
   "outputs": [],
   "source": [
    "top10lr.plot.pie(y='Revenue',figsize=(5, 5),legend=False)"
   ]
  },
  {
   "cell_type": "code",
   "execution_count": null,
   "metadata": {},
   "outputs": [],
   "source": [
    "#Usage of Instrument\n",
    "df3= pd.DataFrame(data.groupby('Product')['Billable Minutes'].sum())\n",
    "df3"
   ]
  },
  {
   "cell_type": "code",
   "execution_count": null,
   "metadata": {},
   "outputs": [],
   "source": [
    "#top10 instrument usage\n",
    "top10iu= df3.sort_values(['Billable Minutes'],ascending=False)[:10]\n",
    "top10iu"
   ]
  },
  {
   "cell_type": "code",
   "execution_count": null,
   "metadata": {},
   "outputs": [],
   "source": [
    "top10iu.plot.pie(y='Billable Minutes',figsize=(5, 5),legend=False)"
   ]
  },
  {
   "cell_type": "code",
   "execution_count": null,
   "metadata": {},
   "outputs": [],
   "source": [
    "#Revenue from Instrument\n",
    "df4= pd.DataFrame(data.groupby('Product')['Revenue'].sum())\n",
    "df4"
   ]
  },
  {
   "cell_type": "code",
   "execution_count": null,
   "metadata": {},
   "outputs": [],
   "source": [
    "#top10 revenue from instruments\n",
    "top10ir= df4.sort_values(['Revenue'],ascending=False)[:10]\n",
    "top10ir"
   ]
  },
  {
   "cell_type": "code",
   "execution_count": null,
   "metadata": {},
   "outputs": [],
   "source": [
    "top10ir.plot.pie(y='Revenue',figsize=(5, 5),legend=False)"
   ]
  },
  {
   "cell_type": "code",
   "execution_count": null,
   "metadata": {},
   "outputs": [],
   "source": [
    "#import file for item orders\n",
    "items =pd.read_excel('C:/Users/jcase/Downloads/fy21_items.xlsx')\n",
    "items"
   ]
  },
  {
   "cell_type": "code",
   "execution_count": null,
   "metadata": {},
   "outputs": [],
   "source": [
    "#Revenue from items\n",
    "df5= pd.DataFrame(items.groupby('Product')['Actual Total'].sum())\n",
    "df5"
   ]
  },
  {
   "cell_type": "code",
   "execution_count": null,
   "metadata": {},
   "outputs": [],
   "source": [
    "#Quantity of items ordered\n",
    "df6= pd.DataFrame(items.groupby('Product')['Quantity'].sum())\n",
    "df6"
   ]
  },
  {
   "cell_type": "code",
   "execution_count": null,
   "metadata": {},
   "outputs": [],
   "source": []
  }
 ],
 "metadata": {
  "kernelspec": {
   "display_name": "Python 3",
   "language": "python",
   "name": "python3"
  },
  "language_info": {
   "codemirror_mode": {
    "name": "ipython",
    "version": 3
   },
   "file_extension": ".py",
   "mimetype": "text/x-python",
   "name": "python",
   "nbconvert_exporter": "python",
   "pygments_lexer": "ipython3",
   "version": "3.7.1"
  }
 },
 "nbformat": 4,
 "nbformat_minor": 2
}
